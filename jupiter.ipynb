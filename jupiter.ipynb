{
 "cells": [
  {
   "cell_type": "code",
   "execution_count": 7,
   "id": "b6f85013",
   "metadata": {},
   "outputs": [
    {
     "name": "stdout",
     "output_type": "stream",
     "text": [
      "Jupyter Notebook Shortcuts\n"
     ]
    }
   ],
   "source": [
    "print(\"Jupyter Notebook Shortcuts\")"
   ]
  },
  {
   "cell_type": "markdown",
   "id": "47df3dde",
   "metadata": {},
   "source": [
    "```\n",
    "# Cell Level \n",
    "M : Markdown\n",
    "Y : Code\n",
    "\n",
    "A : Above\n",
    "B : Below\n",
    "C : Copy\n",
    "X : Cut\n",
    "V : Past\n",
    "DD : Delete \n",
    "\n",
    "II : Interupct Kernel\n",
    "00 : Restart Kernel\n",
    "\n",
    "Shift + Enter : Run Cell and Insert Cell (B)\n",
    "Ctrl + Enter : Run Cell  \n",
    "\n",
    "# Markdown Syntex \n",
    "# : Heading 1\n",
    "## : Heading 2\n",
    "*** : Devider\n",
    "<h2 style=\"color:red; text-align:center;\"> HEADING_NAME </h2>\n",
    "```"
   ]
  }
 ],
 "metadata": {
  "kernelspec": {
   "display_name": ".my_env",
   "language": "python",
   "name": "python3"
  },
  "language_info": {
   "codemirror_mode": {
    "name": "ipython",
    "version": 3
   },
   "file_extension": ".py",
   "mimetype": "text/x-python",
   "name": "python",
   "nbconvert_exporter": "python",
   "pygments_lexer": "ipython3",
   "version": "3.13.5"
  }
 },
 "nbformat": 4,
 "nbformat_minor": 5
}
