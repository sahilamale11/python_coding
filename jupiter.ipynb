{
 "cells": [
  {
   "cell_type": "markdown",
   "id": "47df3dde",
   "metadata": {},
   "source": [
    "```\n",
    "# Cell Level \n",
    "M : Markdown\n",
    "Y : Code\n",
    "\n",
    "A : Above\n",
    "B : Below\n",
    "C : Copy\n",
    "X : Cut\n",
    "V : Past\n",
    "DD : Delete \n",
    "\n",
    "II : Interupct Kernel\n",
    "00 : Restart Kernel\n",
    "\n",
    "Shift + Enter : Run Cell and Insert Cell (B)\n",
    "Ctrl + Enter : Run Cell  \n",
    "\n",
    "# Markdown Syntex \n",
    "# : Heading 1\n",
    "## : Heading 2\n",
    "*** : Devider\n",
    "```"
   ]
  },
  {
   "cell_type": "code",
   "execution_count": 6,
   "id": "4ddd8733",
   "metadata": {},
   "outputs": [
    {
     "name": "stdout",
     "output_type": "stream",
     "text": [
      "Hello\n"
     ]
    }
   ],
   "source": [
    "print(\"Hello\")"
   ]
  },
  {
   "cell_type": "markdown",
   "id": "8b8b6987",
   "metadata": {},
   "source": []
  }
 ],
 "metadata": {
  "kernelspec": {
   "display_name": ".my_env",
   "language": "python",
   "name": "python3"
  },
  "language_info": {
   "codemirror_mode": {
    "name": "ipython",
    "version": 3
   },
   "file_extension": ".py",
   "mimetype": "text/x-python",
   "name": "python",
   "nbconvert_exporter": "python",
   "pygments_lexer": "ipython3",
   "version": "3.13.5"
  }
 },
 "nbformat": 4,
 "nbformat_minor": 5
}
